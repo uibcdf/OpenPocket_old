{
 "cells": [
  {
   "cell_type": "code",
   "execution_count": 1,
   "metadata": {},
   "outputs": [],
   "source": [
    "%load_ext autoreload\n",
    "%autoreload 2"
   ]
  },
  {
   "cell_type": "code",
   "execution_count": 2,
   "metadata": {},
   "outputs": [
    {
     "data": {
      "application/vnd.jupyter.widget-view+json": {
       "model_id": "3eec040ad2ed44a68f7be54b739a90a9",
       "version_major": 2,
       "version_minor": 0
      },
      "text/plain": [
       "_ColormakerRegistry()"
      ]
     },
     "metadata": {},
     "output_type": "display_data"
    }
   ],
   "source": [
    "import molsysmt as msm\n",
    "import openpocket as opo\n",
    "import numpy as np\n",
    "import matplotlib.pyplot as plt\n",
    "from simtk.unit import angstroms\n",
    "import nglview as nv"
   ]
  },
  {
   "cell_type": "code",
   "execution_count": 3,
   "metadata": {},
   "outputs": [],
   "source": [
    "molecular_system = msm.convert('1rob.pdb')"
   ]
  },
  {
   "cell_type": "code",
   "execution_count": 4,
   "metadata": {},
   "outputs": [
    {
     "data": {
      "text/html": [
       "<style  type=\"text/css\" >\n",
       "</style><table id=\"T_99e6cffe_ad26_11ea_8b05_931ad6bb0d73\" ><thead>    <tr>        <th class=\"col_heading level0 col0\" >form</th>        <th class=\"col_heading level0 col1\" >n_atoms</th>        <th class=\"col_heading level0 col2\" >n_groups</th>        <th class=\"col_heading level0 col3\" >n_components</th>        <th class=\"col_heading level0 col4\" >n_chains</th>        <th class=\"col_heading level0 col5\" >n_molecules</th>        <th class=\"col_heading level0 col6\" >n_entities</th>        <th class=\"col_heading level0 col7\" >n_waters</th>        <th class=\"col_heading level0 col8\" >n_peptides</th>        <th class=\"col_heading level0 col9\" >n_frames</th>    </tr></thead><tbody>\n",
       "                <tr>\n",
       "                                <td id=\"T_99e6cffe_ad26_11ea_8b05_931ad6bb0d73row0_col0\" class=\"data row0 col0\" >molsysmt.MolSys</td>\n",
       "                        <td id=\"T_99e6cffe_ad26_11ea_8b05_931ad6bb0d73row0_col1\" class=\"data row0 col1\" >1073</td>\n",
       "                        <td id=\"T_99e6cffe_ad26_11ea_8b05_931ad6bb0d73row0_col2\" class=\"data row0 col2\" >226</td>\n",
       "                        <td id=\"T_99e6cffe_ad26_11ea_8b05_931ad6bb0d73row0_col3\" class=\"data row0 col3\" >103</td>\n",
       "                        <td id=\"T_99e6cffe_ad26_11ea_8b05_931ad6bb0d73row0_col4\" class=\"data row0 col4\" >2</td>\n",
       "                        <td id=\"T_99e6cffe_ad26_11ea_8b05_931ad6bb0d73row0_col5\" class=\"data row0 col5\" >103</td>\n",
       "                        <td id=\"T_99e6cffe_ad26_11ea_8b05_931ad6bb0d73row0_col6\" class=\"data row0 col6\" >2</td>\n",
       "                        <td id=\"T_99e6cffe_ad26_11ea_8b05_931ad6bb0d73row0_col7\" class=\"data row0 col7\" >101</td>\n",
       "                        <td id=\"T_99e6cffe_ad26_11ea_8b05_931ad6bb0d73row0_col8\" class=\"data row0 col8\" >1</td>\n",
       "                        <td id=\"T_99e6cffe_ad26_11ea_8b05_931ad6bb0d73row0_col9\" class=\"data row0 col9\" >1</td>\n",
       "            </tr>\n",
       "    </tbody></table>"
      ],
      "text/plain": [
       "<pandas.io.formats.style.Styler at 0x7ffacb416e90>"
      ]
     },
     "execution_count": 4,
     "metadata": {},
     "output_type": "execute_result"
    }
   ],
   "source": [
    "msm.info(molecular_system)"
   ]
  },
  {
   "cell_type": "code",
   "execution_count": 6,
   "metadata": {},
   "outputs": [],
   "source": [
    "molecular_system = msm.extract(molecular_system, selection='molecule_type==\"peptide\"')"
   ]
  },
  {
   "cell_type": "code",
   "execution_count": 7,
   "metadata": {},
   "outputs": [
    {
     "data": {
      "text/html": [
       "<style  type=\"text/css\" >\n",
       "</style><table id=\"T_a18de044_ad26_11ea_8b05_931ad6bb0d73\" ><thead>    <tr>        <th class=\"col_heading level0 col0\" >form</th>        <th class=\"col_heading level0 col1\" >n_atoms</th>        <th class=\"col_heading level0 col2\" >n_groups</th>        <th class=\"col_heading level0 col3\" >n_components</th>        <th class=\"col_heading level0 col4\" >n_chains</th>        <th class=\"col_heading level0 col5\" >n_molecules</th>        <th class=\"col_heading level0 col6\" >n_entities</th>        <th class=\"col_heading level0 col7\" >n_peptides</th>        <th class=\"col_heading level0 col8\" >n_frames</th>    </tr></thead><tbody>\n",
       "                <tr>\n",
       "                                <td id=\"T_a18de044_ad26_11ea_8b05_931ad6bb0d73row0_col0\" class=\"data row0 col0\" >molsysmt.MolSys</td>\n",
       "                        <td id=\"T_a18de044_ad26_11ea_8b05_931ad6bb0d73row0_col1\" class=\"data row0 col1\" >951</td>\n",
       "                        <td id=\"T_a18de044_ad26_11ea_8b05_931ad6bb0d73row0_col2\" class=\"data row0 col2\" >124</td>\n",
       "                        <td id=\"T_a18de044_ad26_11ea_8b05_931ad6bb0d73row0_col3\" class=\"data row0 col3\" >1</td>\n",
       "                        <td id=\"T_a18de044_ad26_11ea_8b05_931ad6bb0d73row0_col4\" class=\"data row0 col4\" >1</td>\n",
       "                        <td id=\"T_a18de044_ad26_11ea_8b05_931ad6bb0d73row0_col5\" class=\"data row0 col5\" >1</td>\n",
       "                        <td id=\"T_a18de044_ad26_11ea_8b05_931ad6bb0d73row0_col6\" class=\"data row0 col6\" >1</td>\n",
       "                        <td id=\"T_a18de044_ad26_11ea_8b05_931ad6bb0d73row0_col7\" class=\"data row0 col7\" >1</td>\n",
       "                        <td id=\"T_a18de044_ad26_11ea_8b05_931ad6bb0d73row0_col8\" class=\"data row0 col8\" >1</td>\n",
       "            </tr>\n",
       "    </tbody></table>"
      ],
      "text/plain": [
       "<pandas.io.formats.style.Styler at 0x7ffaca752c10>"
      ]
     },
     "execution_count": 7,
     "metadata": {},
     "output_type": "execute_result"
    }
   ],
   "source": [
    "msm.info(molecular_system)"
   ]
  },
  {
   "cell_type": "code",
   "execution_count": 9,
   "metadata": {},
   "outputs": [],
   "source": [
    "alpha_spheres_set = opo.get_alpha_spheres_set(molecular_system, selection='atom_type!=\"H\"')"
   ]
  },
  {
   "cell_type": "code",
   "execution_count": 10,
   "metadata": {},
   "outputs": [
    {
     "data": {
      "text/plain": [
       "6088"
      ]
     },
     "execution_count": 10,
     "metadata": {},
     "output_type": "execute_result"
    }
   ],
   "source": [
    "alpha_spheres_set.n_alpha_spheres"
   ]
  },
  {
   "cell_type": "code",
   "execution_count": 11,
   "metadata": {},
   "outputs": [
    {
     "data": {
      "image/png": "[encoded data removed]",
      "text/plain": [
       "<Figure size 720x288 with 1 Axes>"
      ]
     },
     "metadata": {
      "needs_background": "light"
     },
     "output_type": "display_data"
    }
   ],
   "source": [
    "plt.rcParams[\"figure.figsize\"] = (10,4)\n",
    "plt.scatter(range(alpha_spheres_set.n_alpha_spheres), np.sort(alpha_spheres_set.radii), s=0.5)\n",
    "plt.axhline(y=0.1, color='gray', linestyle='--')\n",
    "plt.axhline(y=0.32, color='red', linestyle='-') # minimum to prefilter\n",
    "plt.axhline(y=0.76, color='red', linestyle='-') # minimum to prefilter\n",
    "plt.yscale('log')"
   ]
  },
  {
   "cell_type": "code",
   "execution_count": 12,
   "metadata": {},
   "outputs": [],
   "source": [
    "alpha_spheres_set.remove_small_alpha_spheres(3.2*angstroms)\n",
    "alpha_spheres_set.remove_big_alpha_spheres(7.6*angstroms)"
   ]
  },
  {
   "cell_type": "code",
   "execution_count": 13,
   "metadata": {},
   "outputs": [
    {
     "data": {
      "text/plain": [
       "964"
      ]
     },
     "execution_count": 13,
     "metadata": {},
     "output_type": "execute_result"
    }
   ],
   "source": [
    "alpha_spheres_set.n_alpha_spheres"
   ]
  },
  {
   "cell_type": "code",
   "execution_count": 20,
   "metadata": {},
   "outputs": [
    {
     "data": {
      "application/vnd.jupyter.widget-view+json": {
       "model_id": "101d21aa172f4e4c909b2370e67e56b8",
       "version_major": 2,
       "version_minor": 0
      },
      "text/plain": [
       "NGLWidget()"
      ]
     },
     "metadata": {},
     "output_type": "display_data"
    }
   ],
   "source": [
    "view = nv.show_molsysmt(molecular_system)\n",
    "view.clear()\n",
    "view.add_surface(color='white', opacity=0.7)\n",
    "view.add_licorice(color='red')\n",
    "view"
   ]
  },
  {
   "cell_type": "code",
   "execution_count": null,
   "metadata": {},
   "outputs": [],
   "source": []
  }
 ],
 "metadata": {
  "kernelspec": {
   "display_name": "Python 3",
   "language": "python",
   "name": "python3"
  },
  "language_info": {
   "codemirror_mode": {
    "name": "ipython",
    "version": 3
   },
   "file_extension": ".py",
   "mimetype": "text/x-python",
   "name": "python",
   "nbconvert_exporter": "python",
   "pygments_lexer": "ipython3",
   "version": "3.7.7"
  }
 },
 "nbformat": 4,
 "nbformat_minor": 4
}
