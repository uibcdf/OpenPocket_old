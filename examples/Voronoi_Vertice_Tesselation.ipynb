{
 "cells": [
  {
   "cell_type": "code",
   "execution_count": 1,
   "metadata": {},
   "outputs": [],
   "source": [
    "%load_ext autoreload\n",
    "%autoreload 2"
   ]
  },
  {
   "cell_type": "code",
   "execution_count": 2,
   "metadata": {},
   "outputs": [
    {
     "name": "stderr",
     "output_type": "stream",
     "text": [
      "/home/diego/Myopt/miniconda3/envs/UIBCDF_lab_dev/lib/python3.7/site-packages/yank/experiment.py:1170: YAMLLoadWarning: calling yaml.load() without Loader=... is deprecated, as the default Loader is unsafe. Please read https://msg.pyyaml.org/load for full details.\n",
      "  \"\"\")\n"
     ]
    },
    {
     "data": {
      "application/vnd.jupyter.widget-view+json": {
       "model_id": "de6ab289c41e42b8a805ca711c381aa4",
       "version_major": 2,
       "version_minor": 0
      },
      "text/plain": [
       "_ColormakerRegistry()"
      ]
     },
     "metadata": {},
     "output_type": "display_data"
    }
   ],
   "source": [
    "import molmodmt as m3t\n",
    "import openpocket as op\n",
    "import numpy as np\n",
    "import seaborn as sns\n",
    "import nglview as nv\n",
    "from simtk.unit import nanometers"
   ]
  },
  {
   "cell_type": "markdown",
   "metadata": {},
   "source": [
    "# Alpha sphere"
   ]
  },
  {
   "cell_type": "code",
   "execution_count": null,
   "metadata": {},
   "outputs": [],
   "source": [
    "n_atoms = 5"
   ]
  },
  {
   "cell_type": "code",
   "execution_count": null,
   "metadata": {},
   "outputs": [],
   "source": [
    "coordinates = np.zeros([1,n_atoms,3],dtype='float64')*nanometers"
   ]
  },
  {
   "cell_type": "code",
   "execution_count": null,
   "metadata": {},
   "outputs": [],
   "source": [
    "coordinates[0,0,:] = [1,3,5]*nanometers\n",
    "coordinates[0,1,:] = [0,-2,1]*nanometers\n",
    "coordinates[0,2,:] = [-1,3,-2]*nanometers\n",
    "coordinates[0,3,:] = [2,3,-1]*nanometers\n",
    "coordinates[0,4,:] = [-3,-1,4]*nanometers"
   ]
  },
  {
   "cell_type": "code",
   "execution_count": null,
   "metadata": {},
   "outputs": [],
   "source": [
    "alpha_spheres = op.alpha_spheres(coordinates)"
   ]
  },
  {
   "cell_type": "code",
   "execution_count": null,
   "metadata": {},
   "outputs": [],
   "source": [
    "alpha_spheres.vertices"
   ]
  },
  {
   "cell_type": "code",
   "execution_count": null,
   "metadata": {},
   "outputs": [],
   "source": [
    "alpha_spheres.radii"
   ]
  },
  {
   "cell_type": "code",
   "execution_count": null,
   "metadata": {},
   "outputs": [],
   "source": [
    "alpha_spheres.neighbor_points"
   ]
  },
  {
   "cell_type": "code",
   "execution_count": null,
   "metadata": {},
   "outputs": [],
   "source": [
    "view = nv.NGLWidget()\n",
    "\n",
    "for index in range(n_atoms):\n",
    "    atom_coordinates = coordinates[0,index,:]._value\n",
    "    view.shape.add_sphere(list(atom_coordinates), [0.8,0.0,0.0], 0.2)\n",
    "\n",
    "for index in range(alpha_spheres.n_alpha_spheres[0]):\n",
    "    sphere_coordinates = alpha_spheres.vertices[0][index,:]._value\n",
    "    sphere_radius = alpha_spheres.radii[0][index]._value\n",
    "    view.shape.add_sphere(list(sphere_coordinates), [0.8,0.8,0.8], sphere_radius)\n",
    "    \n",
    "view"
   ]
  },
  {
   "cell_type": "markdown",
   "metadata": {},
   "source": [
    "## protein"
   ]
  },
  {
   "cell_type": "code",
   "execution_count": 3,
   "metadata": {},
   "outputs": [],
   "source": [
    "molsys = m3t.load('1sux.pdb')"
   ]
  },
  {
   "cell_type": "code",
   "execution_count": 4,
   "metadata": {},
   "outputs": [],
   "source": [
    "min_apol_neigh = 3 # Todavia no se lo que es"
   ]
  },
  {
   "cell_type": "code",
   "execution_count": 5,
   "metadata": {},
   "outputs": [],
   "source": [
    "selection_heavy_atoms = m3t.select(molsys, 'protein and not type H')"
   ]
  },
  {
   "cell_type": "code",
   "execution_count": 6,
   "metadata": {},
   "outputs": [],
   "source": [
    "coordinates = m3t.get(molsys, target='atom', selection=selection_heavy_atoms, coordinates=True)"
   ]
  },
  {
   "cell_type": "code",
   "execution_count": 7,
   "metadata": {},
   "outputs": [],
   "source": [
    "alpha_spheres_set = op.get_alpha_spheres_set(coordinates[:,:,:], minimum_radius= 0.32*nanometers,\n",
    "                                             maximum_radius=0.76*nanometers)"
   ]
  },
  {
   "cell_type": "code",
   "execution_count": null,
   "metadata": {},
   "outputs": [],
   "source": [
    "alpha_spheres_set.vertices"
   ]
  },
  {
   "cell_type": "code",
   "execution_count": 8,
   "metadata": {},
   "outputs": [],
   "source": [
    "clusters = op.clustering.distance_between_vertices(alpha_spheres_set)"
   ]
  },
  {
   "cell_type": "code",
   "execution_count": 10,
   "metadata": {},
   "outputs": [],
   "source": [
    "aa = op.removing_least_populated_clusters(alpha_spheres_set, clusters, threshold=1)"
   ]
  },
  {
   "cell_type": "code",
   "execution_count": 11,
   "metadata": {},
   "outputs": [
    {
     "data": {
      "text/plain": [
       "[]"
      ]
     },
     "execution_count": 11,
     "metadata": {},
     "output_type": "execute_result"
    }
   ],
   "source": [
    "aa"
   ]
  },
  {
   "cell_type": "code",
   "execution_count": null,
   "metadata": {},
   "outputs": [],
   "source": [
    "len(clusters[0])"
   ]
  },
  {
   "cell_type": "code",
   "execution_count": null,
   "metadata": {},
   "outputs": [],
   "source": [
    "alpha_spheres.radii"
   ]
  },
  {
   "cell_type": "code",
   "execution_count": null,
   "metadata": {},
   "outputs": [],
   "source": [
    "alpha_spheres.n_alpha_spheres"
   ]
  },
  {
   "cell_type": "code",
   "execution_count": null,
   "metadata": {},
   "outputs": [],
   "source": [
    "sns.distplot(alpha_spheres.radii[0])"
   ]
  },
  {
   "cell_type": "code",
   "execution_count": null,
   "metadata": {},
   "outputs": [],
   "source": [
    "op.clustering_vertices_distance()"
   ]
  },
  {
   "cell_type": "code",
   "execution_count": null,
   "metadata": {},
   "outputs": [],
   "source": [
    "view = nv.NGLWidget()\n",
    "\n",
    "for index in range(n_atoms):\n",
    "    atom_coordinates = coordinates[0,index,:]._value\n",
    "    view.shape.add_sphere(list(atom_coordinates), [0.8,0.0,0.0], 0.2)\n",
    "\n",
    "for index in range(alpha_spheres.n_alpha_spheres[0]):\n",
    "    sphere_coordinates = alpha_spheres.vertices[0][index,:]._value\n",
    "    sphere_radius = alpha_spheres.radii[0][index]._value\n",
    "    view.shape.add_sphere(list(sphere_coordinates), [0.8,0.8,0.8], sphere_radius)\n",
    "    \n",
    "view"
   ]
  },
  {
   "cell_type": "code",
   "execution_count": null,
   "metadata": {},
   "outputs": [],
   "source": [
    "bb=alpha_spheres.points.__copy__()"
   ]
  },
  {
   "cell_type": "code",
   "execution_count": null,
   "metadata": {},
   "outputs": [],
   "source": [
    "from simtk.unit import nanometers"
   ]
  },
  {
   "cell_type": "code",
   "execution_count": null,
   "metadata": {},
   "outputs": [],
   "source": [
    "bb[0,0,0]=0.0*nanometers"
   ]
  },
  {
   "cell_type": "code",
   "execution_count": null,
   "metadata": {},
   "outputs": [],
   "source": [
    "bb[0,0,0]"
   ]
  },
  {
   "cell_type": "code",
   "execution_count": null,
   "metadata": {},
   "outputs": [],
   "source": []
  },
  {
   "cell_type": "markdown",
   "metadata": {},
   "source": [
    "### Sources, cites and additional information\n",
    "\n",
    "https://plot.ly/python/alpha-shapes/   \n",
    "http://www.nyu.edu/projects/yzhang/AlphaSpace/index.html   \n",
    "https://docs.scipy.org/doc/scipy/reference/generated/scipy.spatial.Voronoi.html   \n",
    "https://stackoverflow.com/questions/10650645/python-calculate-voronoi-tesselation-from-scipys-delaunay-triangulation-in-3d   \n",
    "http://www.qhull.org/   \n",
    "https://docs.scipy.org/doc/scipy-0.18.1/reference/spatial.html   \n",
    "https://docs.scipy.org/doc/scipy-0.18.1/reference/generated/scipy.spatial.ConvexHull.html   \n",
    "\n"
   ]
  }
 ],
 "metadata": {
  "kernelspec": {
   "display_name": "Python 3",
   "language": "python",
   "name": "python3"
  },
  "language_info": {
   "codemirror_mode": {
    "name": "ipython",
    "version": 3
   },
   "file_extension": ".py",
   "mimetype": "text/x-python",
   "name": "python",
   "nbconvert_exporter": "python",
   "pygments_lexer": "ipython3",
   "version": "3.7.4"
  }
 },
 "nbformat": 4,
 "nbformat_minor": 4
}
