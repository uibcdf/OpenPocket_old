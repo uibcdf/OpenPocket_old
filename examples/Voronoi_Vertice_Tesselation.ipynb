{
 "cells": [
  {
   "cell_type": "code",
   "execution_count": 1,
   "metadata": {},
   "outputs": [],
   "source": [
    "%load_ext autoreload\n",
    "%autoreload 2"
   ]
  },
  {
   "cell_type": "code",
   "execution_count": 2,
   "metadata": {},
   "outputs": [
    {
     "name": "stderr",
     "output_type": "stream",
     "text": [
      "/home/diego/Myusr/opt/miniconda3/envs/UIBCDF_lab_dev/lib/python3.7/site-packages/yank-0.24.2-py3.7-linux-x86_64.egg/yank/experiment.py:1170: YAMLLoadWarning: calling yaml.load() without Loader=... is deprecated, as the default Loader is unsafe. Please read https://msg.pyyaml.org/load for full details.\n",
      "  \"\"\")\n"
     ]
    },
    {
     "data": {
      "application/vnd.jupyter.widget-view+json": {
       "model_id": "0a30ba9686ba41cf81c35bf71f93589f",
       "version_major": 2,
       "version_minor": 0
      },
      "text/plain": [
       "_ColormakerRegistry()"
      ]
     },
     "metadata": {},
     "output_type": "display_data"
    }
   ],
   "source": [
    "import molmodmt as m3t\n",
    "import openpocket as op\n",
    "import numpy as np\n",
    "import seaborn as sns\n",
    "import nglview as nv\n",
    "from simtk.unit import angstroms, nanometers\n",
    "from scipy.spatial import Voronoi, KDTree"
   ]
  },
  {
   "cell_type": "markdown",
   "metadata": {},
   "source": [
    "# Alpha sphere"
   ]
  },
  {
   "cell_type": "code",
   "execution_count": 3,
   "metadata": {},
   "outputs": [],
   "source": [
    "n_atoms = 5"
   ]
  },
  {
   "cell_type": "code",
   "execution_count": 4,
   "metadata": {},
   "outputs": [],
   "source": [
    "coordinates = np.zeros([n_atoms,3],dtype='float64')*angstroms"
   ]
  },
  {
   "cell_type": "code",
   "execution_count": 5,
   "metadata": {},
   "outputs": [],
   "source": [
    "coordinates[0,:] = [1,3,5]*angstroms\n",
    "coordinates[1,:] = [0,-2,1]*angstroms\n",
    "coordinates[2,:] = [-1,3,-2]*angstroms\n",
    "coordinates[3,:] = [2,3,-1]*angstroms\n",
    "coordinates[4,:] = [-3,-1,4]*angstroms"
   ]
  },
  {
   "cell_type": "code",
   "execution_count": 9,
   "metadata": {},
   "outputs": [],
   "source": [
    "alpha_spheres = op.alpha_spheres(coordinates)"
   ]
  },
  {
   "cell_type": "code",
   "execution_count": 12,
   "metadata": {},
   "outputs": [
    {
     "data": {
      "text/plain": [
       "array([[[2, 0, 4, 1],\n",
       "        [3, 2, 0, 1]]])"
      ]
     },
     "execution_count": 12,
     "metadata": {},
     "output_type": "execute_result"
    }
   ],
   "source": [
    "alpha_spheres.neighbor_points"
   ]
  },
  {
   "cell_type": "code",
   "execution_count": null,
   "metadata": {},
   "outputs": [],
   "source": [
    "view = nv.NGLWidget()\n",
    "\n",
    "for atom_index in range(n_atoms):\n",
    "    atom_coordinates = coordinates[atom_index,:]._value\n",
    "    view.shape.add_sphere(list(atom_coordinates), [0.8,0.0,0.0], 0.2)\n",
    "\n",
    "view"
   ]
  },
  {
   "cell_type": "code",
   "execution_count": null,
   "metadata": {},
   "outputs": [],
   "source": [
    "r_sphere = distances[0,0,0]._value"
   ]
  },
  {
   "cell_type": "code",
   "execution_count": null,
   "metadata": {},
   "outputs": [],
   "source": [
    "view.shape.add_sphere(list(result.vertices[0]), [0.8,0.8,0.8], r_sphere)"
   ]
  },
  {
   "cell_type": "markdown",
   "metadata": {},
   "source": [
    "## protein"
   ]
  },
  {
   "cell_type": "code",
   "execution_count": 13,
   "metadata": {},
   "outputs": [],
   "source": [
    "molsys = m3t.load('1sux.pdb')"
   ]
  },
  {
   "cell_type": "code",
   "execution_count": 14,
   "metadata": {},
   "outputs": [],
   "source": [
    "min_apol_neigh = 3 # Todavia no se lo que es"
   ]
  },
  {
   "cell_type": "code",
   "execution_count": 15,
   "metadata": {},
   "outputs": [],
   "source": [
    "selection_heavy_atoms = m3t.select(molsys, 'protein and not type H')"
   ]
  },
  {
   "cell_type": "code",
   "execution_count": 16,
   "metadata": {},
   "outputs": [],
   "source": [
    "coordinates = m3t.get(molsys, target='atom', selection=selection_heavy_atoms, coordinates=True)"
   ]
  },
  {
   "cell_type": "code",
   "execution_count": 23,
   "metadata": {},
   "outputs": [],
   "source": [
    "alpha_spheres_set = op.alpha_spheres(coordinates[0,:,:],selection, frame)"
   ]
  },
  {
   "cell_type": "code",
   "execution_count": 22,
   "metadata": {},
   "outputs": [
    {
     "data": {
      "text/plain": [
       "Quantity(value=array([[[  0.77379244,   0.77379244,   0.77379244,   0.77379244],\n",
       "        [  0.47844584,   0.47844584,   0.47844584,   0.47844584],\n",
       "        [291.02795251, 291.02795251, 291.02795251, 291.02795251],\n",
       "        ...,\n",
       "        [  0.29546651,   0.29546651,   0.29546651,   0.29546651],\n",
       "        [  0.31438851,   0.31438851,   0.31438851,   0.31438851],\n",
       "        [  0.31834376,   0.31834376,   0.31834376,   0.31834376]]]), unit=nanometer)"
      ]
     },
     "execution_count": 22,
     "metadata": {},
     "output_type": "execute_result"
    }
   ],
   "source": [
    "alpha_spheres.radii"
   ]
  },
  {
   "cell_type": "code",
   "execution_count": null,
   "metadata": {},
   "outputs": [],
   "source": [
    "result = Voronoi(coordinates[0,:,:])"
   ]
  },
  {
   "cell_type": "code",
   "execution_count": null,
   "metadata": {},
   "outputs": [],
   "source": [
    "kdtree_coordinates = KDTree(coordinates[0,:,:])"
   ]
  },
  {
   "cell_type": "code",
   "execution_count": null,
   "metadata": {},
   "outputs": [],
   "source": [
    "kdtree_coordinates.query(result.vertices, k=4)"
   ]
  },
  {
   "cell_type": "code",
   "execution_count": null,
   "metadata": {},
   "outputs": [],
   "source": [
    "m3t.neighbors_lists(item_1=result.vertices*nanometers, item_2=coordinates, num_neighbors=4)"
   ]
  },
  {
   "cell_type": "code",
   "execution_count": null,
   "metadata": {},
   "outputs": [],
   "source": [
    "coordinates"
   ]
  },
  {
   "cell_type": "code",
   "execution_count": null,
   "metadata": {},
   "outputs": [],
   "source": [
    "len(coordinates[0])"
   ]
  },
  {
   "cell_type": "code",
   "execution_count": null,
   "metadata": {},
   "outputs": [],
   "source": [
    "voronoi_vertices = result.vertices*nanometers"
   ]
  },
  {
   "cell_type": "code",
   "execution_count": null,
   "metadata": {},
   "outputs": [],
   "source": []
  },
  {
   "cell_type": "code",
   "execution_count": null,
   "metadata": {},
   "outputs": [],
   "source": [
    "pairs, distances = m3t.minimum_distance(item_1=molsys, selection_1=selection_heavy_atoms,\n",
    "                                        item_2=voronoi_vertices, selection_2='all',\n",
    "                                        as_entity_1=True, as_entity_2=False)"
   ]
  },
  {
   "cell_type": "code",
   "execution_count": null,
   "metadata": {},
   "outputs": [],
   "source": [
    "sns.kdeplot(distances[0], shade=True);"
   ]
  },
  {
   "cell_type": "code",
   "execution_count": null,
   "metadata": {},
   "outputs": [],
   "source": [
    "threshold= 0.2 * nanometers"
   ]
  },
  {
   "cell_type": "code",
   "execution_count": null,
   "metadata": {},
   "outputs": [],
   "source": [
    "np.sum(distances[0][:]<threshold)"
   ]
  },
  {
   "cell_type": "code",
   "execution_count": null,
   "metadata": {},
   "outputs": [],
   "source": [
    "distances[0]"
   ]
  },
  {
   "cell_type": "code",
   "execution_count": null,
   "metadata": {},
   "outputs": [],
   "source": [
    "len(distances[0][:])"
   ]
  },
  {
   "cell_type": "code",
   "execution_count": null,
   "metadata": {},
   "outputs": [],
   "source": [
    "view = m3t.view(molsys)\n",
    "view.clear()\n",
    "view.add_ball_and_stick(selection_heavy_atoms)\n",
    "\n",
    "#for vertex_index in range(voro.vertices.shape[0]):\n",
    "for vertex_index in range(100):\n",
    "    vertex_coordinates = voro.vertices[vertex_index,:]\n",
    "    view.shape.add_sphere(list(vertex_coordinates), [0,1,0], 0.5)\n",
    "\n",
    "#view.shape.add_sphere([0,0,0], [1,0,0], 2)\n",
    "view\n",
    "\n"
   ]
  },
  {
   "cell_type": "code",
   "execution_count": null,
   "metadata": {},
   "outputs": [],
   "source": [
    "m3t.minimum_distance()"
   ]
  },
  {
   "cell_type": "markdown",
   "metadata": {},
   "source": [
    "### Sources, cites and additional information\n",
    "\n",
    "https://plot.ly/python/alpha-shapes/   \n",
    "http://www.nyu.edu/projects/yzhang/AlphaSpace/index.html   \n",
    "https://docs.scipy.org/doc/scipy/reference/generated/scipy.spatial.Voronoi.html   \n",
    "https://stackoverflow.com/questions/10650645/python-calculate-voronoi-tesselation-from-scipys-delaunay-triangulation-in-3d   \n",
    "http://www.qhull.org/   \n",
    "https://docs.scipy.org/doc/scipy-0.18.1/reference/spatial.html   \n",
    "https://docs.scipy.org/doc/scipy-0.18.1/reference/generated/scipy.spatial.ConvexHull.html   \n",
    "\n"
   ]
  },
  {
   "cell_type": "code",
   "execution_count": null,
   "metadata": {},
   "outputs": [],
   "source": []
  }
 ],
 "metadata": {
  "kernelspec": {
   "display_name": "Python 3",
   "language": "python",
   "name": "python3"
  },
  "language_info": {
   "codemirror_mode": {
    "name": "ipython",
    "version": 3
   },
   "file_extension": ".py",
   "mimetype": "text/x-python",
   "name": "python",
   "nbconvert_exporter": "python",
   "pygments_lexer": "ipython3",
   "version": "3.7.4"
  }
 },
 "nbformat": 4,
 "nbformat_minor": 4
}
