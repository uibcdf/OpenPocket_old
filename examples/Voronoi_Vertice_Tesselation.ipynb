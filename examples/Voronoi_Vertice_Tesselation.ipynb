{
 "cells": [
  {
   "cell_type": "code",
   "execution_count": 2,
   "metadata": {},
   "outputs": [],
   "source": [
    "%load_ext autoreload\n",
    "%autoreload 2"
   ]
  },
  {
   "cell_type": "code",
   "execution_count": 3,
   "metadata": {},
   "outputs": [
    {
     "name": "stderr",
     "output_type": "stream",
     "text": [
      "/home/diego/Myopt/miniconda3/envs/UIBCDF_lab_dev/lib/python3.7/site-packages/yank/experiment.py:1170: YAMLLoadWarning: calling yaml.load() without Loader=... is deprecated, as the default Loader is unsafe. Please read https://msg.pyyaml.org/load for full details.\n",
      "  \"\"\")\n"
     ]
    },
    {
     "data": {
      "application/vnd.jupyter.widget-view+json": {
       "model_id": "41de3f25c14d4f618530251763e6ffd3",
       "version_major": 2,
       "version_minor": 0
      },
      "text/plain": [
       "_ColormakerRegistry()"
      ]
     },
     "metadata": {},
     "output_type": "display_data"
    }
   ],
   "source": [
    "import molmodmt as m3t\n",
    "import numpy as np\n",
    "import seaborn as sns\n",
    "import nglview as nv\n",
    "from simtk.unit import angstroms, nanometers\n",
    "from scipy.spatial.qhull import Voronoi"
   ]
  },
  {
   "cell_type": "markdown",
   "metadata": {},
   "source": [
    "# Alpha sphere"
   ]
  },
  {
   "cell_type": "code",
   "execution_count": 4,
   "metadata": {},
   "outputs": [],
   "source": [
    "n_atoms = 5"
   ]
  },
  {
   "cell_type": "code",
   "execution_count": 5,
   "metadata": {},
   "outputs": [],
   "source": [
    "coordinates = np.zeros([n_atoms,3],dtype='float64')*angstroms"
   ]
  },
  {
   "cell_type": "code",
   "execution_count": 6,
   "metadata": {},
   "outputs": [
    {
     "data": {
      "text/plain": [
       "'XYZ'"
      ]
     },
     "execution_count": 6,
     "metadata": {},
     "output_type": "execute_result"
    }
   ],
   "source": [
    "m3t.get_form(coordinates)"
   ]
  },
  {
   "cell_type": "code",
   "execution_count": 29,
   "metadata": {},
   "outputs": [],
   "source": [
    "coordinates[0,:] = [1,3,5]*angstroms\n",
    "coordinates[1,:] = [0,-2,1]*angstroms\n",
    "coordinates[2,:] = [-1,3,-2]*angstroms\n",
    "coordinates[3,:] = [2,3,-1]*angstroms\n",
    "coordinates[4,:] = [-3,-1,4]*angstroms"
   ]
  },
  {
   "cell_type": "code",
   "execution_count": 30,
   "metadata": {},
   "outputs": [
    {
     "data": {
      "text/plain": [
       "(5, 3)"
      ]
     },
     "execution_count": 30,
     "metadata": {},
     "output_type": "execute_result"
    }
   ],
   "source": [
    "coordinates.shape"
   ]
  },
  {
   "cell_type": "code",
   "execution_count": 31,
   "metadata": {},
   "outputs": [
    {
     "data": {
      "application/vnd.jupyter.widget-view+json": {
       "model_id": "35a3a0bcb7824dec941c1e83e39af33e",
       "version_major": 2,
       "version_minor": 0
      },
      "text/plain": [
       "NGLWidget()"
      ]
     },
     "metadata": {},
     "output_type": "display_data"
    }
   ],
   "source": [
    "view = nv.NGLWidget()\n",
    "\n",
    "for atom_index in range(n_atoms):\n",
    "    atom_coordinates = coordinates[atom_index,:]._value\n",
    "    view.shape.add_sphere(list(atom_coordinates), [0.8,0.0,0.0], 0.2)\n",
    "\n",
    "view"
   ]
  },
  {
   "cell_type": "code",
   "execution_count": 35,
   "metadata": {},
   "outputs": [],
   "source": [
    "result = Voronoi(coordinates, incremental=False)"
   ]
  },
  {
   "cell_type": "code",
   "execution_count": 36,
   "metadata": {},
   "outputs": [
    {
     "name": "stdout",
     "output_type": "stream",
     "text": [
      "[[-1.09701493  1.76865672  1.81343284]\n",
      " [-0.55263158  1.78421053  1.65789474]]\n"
     ]
    }
   ],
   "source": [
    "print(result.vertices)"
   ]
  },
  {
   "cell_type": "code",
   "execution_count": 40,
   "metadata": {},
   "outputs": [
    {
     "data": {
      "text/plain": [
       "array([-3., -2., -2.])"
      ]
     },
     "execution_count": 40,
     "metadata": {},
     "output_type": "execute_result"
    }
   ],
   "source": [
    "result.min_bound"
   ]
  },
  {
   "cell_type": "code",
   "execution_count": 34,
   "metadata": {},
   "outputs": [
    {
     "name": "stdout",
     "output_type": "stream",
     "text": [
      "Help on Voronoi in module scipy.spatial.qhull object:\n",
      "\n",
      "class Voronoi(_QhullUser)\n",
      " |  Voronoi(points, furthest_site=False, incremental=False, qhull_options=None)\n",
      " |  \n",
      " |  Voronoi(points, furthest_site=False, incremental=False, qhull_options=None)\n",
      " |  \n",
      " |  Voronoi diagrams in N dimensions.\n",
      " |  \n",
      " |  .. versionadded:: 0.12.0\n",
      " |  \n",
      " |  Parameters\n",
      " |  ----------\n",
      " |  points : ndarray of floats, shape (npoints, ndim)\n",
      " |      Coordinates of points to construct a convex hull from\n",
      " |  furthest_site : bool, optional\n",
      " |      Whether to compute a furthest-site Voronoi diagram. Default: False\n",
      " |  incremental : bool, optional\n",
      " |      Allow adding new points incrementally. This takes up some additional\n",
      " |      resources.\n",
      " |  qhull_options : str, optional\n",
      " |      Additional options to pass to Qhull. See Qhull manual\n",
      " |      for details. (Default: \"Qbb Qc Qz Qx\" for ndim > 4 and\n",
      " |      \"Qbb Qc Qz\" otherwise. Incremental mode omits \"Qz\".)\n",
      " |  \n",
      " |  Attributes\n",
      " |  ----------\n",
      " |  points : ndarray of double, shape (npoints, ndim)\n",
      " |      Coordinates of input points.\n",
      " |  vertices : ndarray of double, shape (nvertices, ndim)\n",
      " |      Coordinates of the Voronoi vertices.\n",
      " |  ridge_points : ndarray of ints, shape ``(nridges, 2)``\n",
      " |      Indices of the points between which each Voronoi ridge lies.\n",
      " |  ridge_vertices : list of list of ints, shape ``(nridges, *)``\n",
      " |      Indices of the Voronoi vertices forming each Voronoi ridge.\n",
      " |  regions : list of list of ints, shape ``(nregions, *)``\n",
      " |      Indices of the Voronoi vertices forming each Voronoi region.\n",
      " |      -1 indicates vertex outside the Voronoi diagram.\n",
      " |  point_region : list of ints, shape (npoints)\n",
      " |      Index of the Voronoi region for each input point.\n",
      " |      If qhull option \"Qc\" was not specified, the list will contain -1\n",
      " |      for points that are not associated with a Voronoi region.\n",
      " |  \n",
      " |  Raises\n",
      " |  ------\n",
      " |  QhullError\n",
      " |      Raised when Qhull encounters an error condition, such as\n",
      " |      geometrical degeneracy when options to resolve are not enabled.\n",
      " |  ValueError\n",
      " |      Raised if an incompatible array is given as input.\n",
      " |  \n",
      " |  Notes\n",
      " |  -----\n",
      " |  The Voronoi diagram is computed using the\n",
      " |  `Qhull library <http://www.qhull.org/>`__.\n",
      " |  \n",
      " |  Examples\n",
      " |  --------\n",
      " |  Voronoi diagram for a set of point:\n",
      " |  \n",
      " |  >>> points = np.array([[0, 0], [0, 1], [0, 2], [1, 0], [1, 1], [1, 2],\n",
      " |  ...                    [2, 0], [2, 1], [2, 2]])\n",
      " |  >>> from scipy.spatial import Voronoi, voronoi_plot_2d\n",
      " |  >>> vor = Voronoi(points)\n",
      " |  \n",
      " |  Plot it:\n",
      " |  \n",
      " |  >>> import matplotlib.pyplot as plt\n",
      " |  >>> fig = voronoi_plot_2d(vor)\n",
      " |  >>> plt.show()\n",
      " |  \n",
      " |  The Voronoi vertices:\n",
      " |  \n",
      " |  >>> vor.vertices\n",
      " |  array([[ 0.5,  0.5],\n",
      " |         [ 1.5,  0.5],\n",
      " |         [ 0.5,  1.5],\n",
      " |         [ 1.5,  1.5]])\n",
      " |  \n",
      " |  There is a single finite Voronoi region, and four finite Voronoi\n",
      " |  ridges:\n",
      " |  \n",
      " |  >>> vor.regions\n",
      " |  [[], [-1, 0], [-1, 1], [1, -1, 0], [3, -1, 2], [-1, 3], [-1, 2], [3, 2, 0, 1], [2, -1, 0], [3, -1, 1]]\n",
      " |  >>> vor.ridge_vertices\n",
      " |  [[-1, 0], [-1, 0], [-1, 1], [-1, 1], [0, 1], [-1, 3], [-1, 2], [2, 3], [-1, 3], [-1, 2], [0, 2], [1, 3]]\n",
      " |  \n",
      " |  The ridges are perpendicular between lines drawn between the following\n",
      " |  input points:\n",
      " |  \n",
      " |  >>> vor.ridge_points\n",
      " |  array([[0, 1],\n",
      " |         [0, 3],\n",
      " |         [6, 3],\n",
      " |         [6, 7],\n",
      " |         [3, 4],\n",
      " |         [5, 8],\n",
      " |         [5, 2],\n",
      " |         [5, 4],\n",
      " |         [8, 7],\n",
      " |         [2, 1],\n",
      " |         [4, 1],\n",
      " |         [4, 7]], dtype=int32)\n",
      " |  \n",
      " |  Method resolution order:\n",
      " |      Voronoi\n",
      " |      _QhullUser\n",
      " |      builtins.object\n",
      " |  \n",
      " |  Methods defined here:\n",
      " |  \n",
      " |  __init__(self, points, furthest_site=False, incremental=False, qhull_options=None)\n",
      " |  \n",
      " |  add_points(self, points, restart=False)\n",
      " |      add_points(points, restart=False)\n",
      " |      \n",
      " |      Process a set of additional new points.\n",
      " |      \n",
      " |      Parameters\n",
      " |      ----------\n",
      " |      points : ndarray\n",
      " |          New points to add. The dimensionality should match that of the\n",
      " |          initial points.\n",
      " |      restart : bool, optional\n",
      " |          Whether to restart processing from scratch, rather than\n",
      " |          adding points incrementally.\n",
      " |      \n",
      " |      Raises\n",
      " |      ------\n",
      " |      QhullError\n",
      " |          Raised when Qhull encounters an error condition, such as\n",
      " |          geometrical degeneracy when options to resolve are not enabled.\n",
      " |      \n",
      " |      See Also\n",
      " |      --------\n",
      " |      close\n",
      " |      \n",
      " |      Notes\n",
      " |      -----\n",
      " |      You need to specify ``incremental=True`` when constructing the\n",
      " |      object to be able to add points incrementally. Incremental addition\n",
      " |      of points is also not possible after `close` has been called.\n",
      " |  \n",
      " |  ----------------------------------------------------------------------\n",
      " |  Data descriptors defined here:\n",
      " |  \n",
      " |  points\n",
      " |  \n",
      " |  ridge_dict\n",
      " |  \n",
      " |  ----------------------------------------------------------------------\n",
      " |  Methods inherited from _QhullUser:\n",
      " |  \n",
      " |  __del__(self)\n",
      " |  \n",
      " |  close(self)\n",
      " |      close()\n",
      " |      \n",
      " |      Finish incremental processing.\n",
      " |      \n",
      " |      Call this to free resources taken up by Qhull, when using the\n",
      " |      incremental mode. After calling this, adding more points is no\n",
      " |      longer possible.\n",
      " |  \n",
      " |  ----------------------------------------------------------------------\n",
      " |  Data descriptors inherited from _QhullUser:\n",
      " |  \n",
      " |  __dict__\n",
      " |      dictionary for instance variables (if defined)\n",
      " |  \n",
      " |  __weakref__\n",
      " |      list of weak references to the object (if defined)\n",
      "\n"
     ]
    }
   ],
   "source": [
    "help(result)"
   ]
  },
  {
   "cell_type": "code",
   "execution_count": 11,
   "metadata": {},
   "outputs": [],
   "source": [
    "distances = m3t.distance(item_1=coordinates, item_2=result.vertices*angstroms)"
   ]
  },
  {
   "cell_type": "code",
   "execution_count": 12,
   "metadata": {},
   "outputs": [
    {
     "name": "stdout",
     "output_type": "stream",
     "text": [
      "[[[ 7.18667342 11.92598774 18.73105443]\n",
      "  [ 3.45556909 11.92598774 18.73105443]\n",
      "  [ 3.45556909 11.92598774 20.39540144]\n",
      "  [ 3.45556909 11.92598774 18.73105443]\n",
      "  [ 3.45556909 13.73839399 18.73105443]]] A\n"
     ]
    }
   ],
   "source": [
    "print(distances)"
   ]
  },
  {
   "cell_type": "code",
   "execution_count": 13,
   "metadata": {},
   "outputs": [
    {
     "data": {
      "text/plain": [
       "array([[-0.08536585,  0.30487805, -1.57317073],\n",
       "       [-9.72857143,  4.84285714,  0.12857143],\n",
       "       [18.18      , -4.46      ,  4.78      ]])"
      ]
     },
     "execution_count": 13,
     "metadata": {},
     "output_type": "execute_result"
    }
   ],
   "source": [
    "result.vertices"
   ]
  },
  {
   "cell_type": "code",
   "execution_count": null,
   "metadata": {},
   "outputs": [],
   "source": [
    "r_sphere = distances[0,0,0]._value"
   ]
  },
  {
   "cell_type": "code",
   "execution_count": null,
   "metadata": {},
   "outputs": [],
   "source": [
    "view.shape.add_sphere(list(result.vertices[0]), [0.8,0.8,0.8], r_sphere)"
   ]
  },
  {
   "cell_type": "markdown",
   "metadata": {},
   "source": [
    "## protein"
   ]
  },
  {
   "cell_type": "code",
   "execution_count": null,
   "metadata": {},
   "outputs": [],
   "source": [
    "molsys = m3t.load('1sux.pdb')"
   ]
  },
  {
   "cell_type": "code",
   "execution_count": null,
   "metadata": {},
   "outputs": [],
   "source": [
    "min_apol_neigh = 3 # Todavia no se lo que es"
   ]
  },
  {
   "cell_type": "code",
   "execution_count": null,
   "metadata": {},
   "outputs": [],
   "source": [
    "selection_heavy_atoms = m3t.select(molsys, 'protein and not type H')"
   ]
  },
  {
   "cell_type": "code",
   "execution_count": null,
   "metadata": {},
   "outputs": [],
   "source": [
    "coordinates = m3t.get(molsys, target='atom', selection=selection_heavy_atoms, coordinates=True)"
   ]
  },
  {
   "cell_type": "code",
   "execution_count": null,
   "metadata": {},
   "outputs": [],
   "source": [
    "result = Voronoi(coordinates[0,:,:])"
   ]
  },
  {
   "cell_type": "code",
   "execution_count": null,
   "metadata": {},
   "outputs": [],
   "source": [
    "voronoi_vertices = result.vertices*nanometers"
   ]
  },
  {
   "cell_type": "code",
   "execution_count": null,
   "metadata": {},
   "outputs": [],
   "source": [
    "pairs, distances = m3t.minimum_distance(item_1=molsys, selection_1=selection_heavy_atoms,\n",
    "                                        item_2=voronoi_vertices, selection_2='all',\n",
    "                                        as_entity_1=True, as_entity_2=False)"
   ]
  },
  {
   "cell_type": "code",
   "execution_count": null,
   "metadata": {},
   "outputs": [],
   "source": [
    "sns.kdeplot(distances[0], shade=True);"
   ]
  },
  {
   "cell_type": "code",
   "execution_count": null,
   "metadata": {},
   "outputs": [],
   "source": [
    "threshold= 0.2 * nanometers"
   ]
  },
  {
   "cell_type": "code",
   "execution_count": null,
   "metadata": {},
   "outputs": [],
   "source": [
    "np.sum(distances[0][:]<threshold)"
   ]
  },
  {
   "cell_type": "code",
   "execution_count": null,
   "metadata": {},
   "outputs": [],
   "source": [
    "distances[0]"
   ]
  },
  {
   "cell_type": "code",
   "execution_count": null,
   "metadata": {},
   "outputs": [],
   "source": [
    "len(distances[0][:])"
   ]
  },
  {
   "cell_type": "code",
   "execution_count": null,
   "metadata": {},
   "outputs": [],
   "source": [
    "view = m3t.view(molsys)\n",
    "view.clear()\n",
    "view.add_ball_and_stick(selection_heavy_atoms)\n",
    "\n",
    "#for vertex_index in range(voro.vertices.shape[0]):\n",
    "for vertex_index in range(100):\n",
    "    vertex_coordinates = voro.vertices[vertex_index,:]\n",
    "    view.shape.add_sphere(list(vertex_coordinates), [0,1,0], 0.5)\n",
    "\n",
    "#view.shape.add_sphere([0,0,0], [1,0,0], 2)\n",
    "view\n",
    "\n"
   ]
  },
  {
   "cell_type": "code",
   "execution_count": null,
   "metadata": {},
   "outputs": [],
   "source": [
    "m3t.minimum_distance()"
   ]
  },
  {
   "cell_type": "markdown",
   "metadata": {},
   "source": [
    "### Sources, cites and additional information\n",
    "\n",
    "https://plot.ly/python/alpha-shapes/\n",
    "http://www.nyu.edu/projects/yzhang/AlphaSpace/index.html\n",
    "https://docs.scipy.org/doc/scipy/reference/generated/scipy.spatial.Voronoi.html\n",
    "https://stackoverflow.com/questions/10650645/python-calculate-voronoi-tesselation-from-scipys-delaunay-triangulation-in-3d\n",
    "http://www.qhull.org/\n",
    "https://docs.scipy.org/doc/scipy-0.18.1/reference/spatial.html\n",
    "https://docs.scipy.org/doc/scipy-0.18.1/reference/generated/scipy.spatial.ConvexHull.html\n",
    "\n"
   ]
  }
 ],
 "metadata": {
  "kernelspec": {
   "display_name": "Python 3",
   "language": "python",
   "name": "python3"
  },
  "language_info": {
   "codemirror_mode": {
    "name": "ipython",
    "version": 3
   },
   "file_extension": ".py",
   "mimetype": "text/x-python",
   "name": "python",
   "nbconvert_exporter": "python",
   "pygments_lexer": "ipython3",
   "version": "3.7.4"
  }
 },
 "nbformat": 4,
 "nbformat_minor": 4
}
