{
 "cells": [
  {
   "cell_type": "code",
   "execution_count": 2,
   "metadata": {},
   "outputs": [],
   "source": [
    "%load_ext autoreload\n",
    "%autoreload 2"
   ]
  },
  {
   "cell_type": "code",
   "execution_count": 12,
   "metadata": {},
   "outputs": [],
   "source": [
    "import numpy as np\n",
    "from simtk import unit\n",
    "import molmodmt as m3t\n",
    "import openpocket as opp\n",
    "import nglview as nv\n",
    "import matplotlib.pyplot as plt"
   ]
  },
  {
   "cell_type": "markdown",
   "metadata": {},
   "source": [
    "## Índice\n",
    "- ¿Qué son las alfa-esferas?\n",
    "- ¿Cómo se clusterizan?"
   ]
  },
  {
   "cell_type": "markdown",
   "metadata": {},
   "source": [
    "## 2D example"
   ]
  },
  {
   "cell_type": "markdown",
   "metadata": {},
   "source": [
    "Random compact figure 2D made by hard discs:"
   ]
  },
  {
   "cell_type": "code",
   "execution_count": 14,
   "metadata": {},
   "outputs": [
    {
     "data": {
      "text/plain": [
       "<matplotlib.collections.PathCollection at 0x7f9465a31410>"
      ]
     },
     "execution_count": 14,
     "metadata": {},
     "output_type": "execute_result"
    },
    {
     "data": {
      "image/png": "[encoded data removed]",
      "text/plain": [
       "<Figure size 432x288 with 1 Axes>"
      ]
     },
     "metadata": {
      "needs_background": "light"
     },
     "output_type": "display_data"
    }
   ],
   "source": [
    "radius = 1.0 * unit.angstroms\n",
    "n_discs = 60\n",
    "\n",
    "positions = np.zeros(shape=(n_discs,2),dtype=float) * unit.angstroms\n",
    "\n",
    "for ii in range(1, n_discs):\n",
    "    done = False\n",
    "    while done is False:\n",
    "        disc_in_contact = np.random.randint(0,ii)\n",
    "        angle = 2*np.pi*np.random.random() # angulo aleatorio\n",
    "        new_center = 2*radius*np.array([np.cos(angle), np.sin(angle)])+positions[disc_in_contact,:]\n",
    "        done=True\n",
    "        for jj in range(ii):\n",
    "            dist= np.linalg.norm(positions[jj,:]-new_center) * unit.angstroms\n",
    "            if dist < 2*radius:\n",
    "                done=False\n",
    "                break\n",
    "        if done is True:\n",
    "            positions[ii,:]=new_center\n",
    "\n",
    "plt.scatter(positions[:,0], positions[:,1])"
   ]
  },
  {
   "cell_type": "code",
   "execution_count": null,
   "metadata": {},
   "outputs": [],
   "source": [
    "np.cos(0.54)"
   ]
  },
  {
   "cell_type": "markdown",
   "metadata": {},
   "source": [
    "## 3D Alpha Spheres with OpenPocket"
   ]
  },
  {
   "cell_type": "markdown",
   "metadata": {},
   "source": [
    "Lets define 4 points in space:"
   ]
  },
  {
   "cell_type": "code",
   "execution_count": null,
   "metadata": {},
   "outputs": [],
   "source": [
    "positions = np.zeros(shape=(4,3),dtype=float) * unit.angstroms\n",
    "\n",
    "positions[0,:] = [-1.0, 2.0, 0.0] * unit.angstroms\n",
    "positions[1,:] = [0.0, 2.0, 1.0] * unit.angstroms\n",
    "positions[2,:] = [1.0, -2.0, 1.0] * unit.angstroms\n",
    "positions[3,:] = [0.0, 1.0, 1.0] * unit.angstroms"
   ]
  },
  {
   "cell_type": "markdown",
   "metadata": {},
   "source": [
    "We can obtain the set of alpha spheres defined by the coordinates of those 4 points. With the class `AlphSpheresSet` we can instance an object given an array of 3D coordinates:"
   ]
  },
  {
   "cell_type": "code",
   "execution_count": null,
   "metadata": {},
   "outputs": [],
   "source": [
    "alpha_spheres_set = opp.alpha_spheres.AlphaSpheresSet(positions)"
   ]
  },
  {
   "cell_type": "markdown",
   "metadata": {},
   "source": [
    "The new object has some useful methods and attributes regarding the resultant alpha-spheres set. Lets check, for instance, the number of alpha spheres obtained with our 4 points:"
   ]
  },
  {
   "cell_type": "code",
   "execution_count": null,
   "metadata": {},
   "outputs": [],
   "source": [
    "alpha_spheres_set.n_alpha_spheres"
   ]
  },
  {
   "cell_type": "markdown",
   "metadata": {},
   "source": [
    "As expected, there is only one alpha sphere. Lets print out now the center and radius of the first and unique alpha sphere of the set:"
   ]
  },
  {
   "cell_type": "code",
   "execution_count": null,
   "metadata": {},
   "outputs": [],
   "source": [
    "print('The only alpha-sphere has its center in {} and a radius of {} length.'.format(\n",
    "    alpha_spheres_set.centers[0], alpha_spheres_set.radii[0]))"
   ]
  },
  {
   "cell_type": "markdown",
   "metadata": {},
   "source": [
    "We can also wonder what points of the input points distribution are in contact with an specific alpha sphere of the set. In this case is trivial, since there is only 4 points and 1 alpha sphere:"
   ]
  },
  {
   "cell_type": "code",
   "execution_count": null,
   "metadata": {},
   "outputs": [],
   "source": [
    "alpha_spheres_set.points_in_surface[0]"
   ]
  },
  {
   "cell_type": "markdown",
   "metadata": {},
   "source": [
    "At last, lets see the sphere and the 4 points in a spatial representation:"
   ]
  },
  {
   "cell_type": "code",
   "execution_count": null,
   "metadata": {},
   "outputs": [],
   "source": [
    "view = nv.NGLWidget()\n",
    "\n",
    "for index in range(alpha_spheres_set.n_points):\n",
    "    atom_coordinates = alpha_spheres_set.points[index,:]._value\n",
    "    view.shape.add_sphere(list(atom_coordinates), [0.8,0.0,0.0], 0.2)\n",
    "\n",
    "for index in range(alpha_spheres_set.n_alpha_spheres):\n",
    "    sphere_coordinates = alpha_spheres_set.centers[index,:]._value\n",
    "    sphere_radius = alpha_spheres_set.radii[index]._value\n",
    "    view.shape.add_sphere(list(sphere_coordinates), [0.8,0.8,0.8], sphere_radius)\n",
    "    \n",
    "view"
   ]
  },
  {
   "cell_type": "markdown",
   "metadata": {},
   "source": [
    "As we already knew, 4 points define a single alpha sphere by construction. Lets increase the number of points to 6 to see what happens:"
   ]
  },
  {
   "cell_type": "code",
   "execution_count": null,
   "metadata": {},
   "outputs": [],
   "source": [
    "positions = np.zeros(shape=(6,3),dtype=float) * unit.angstroms\n",
    "\n",
    "positions[0,:] = [-1.0, 2.0, 0.0] * unit.angstroms\n",
    "positions[1,:] = [0.0, 2.0, 1.0] * unit.angstroms\n",
    "positions[2,:] = [1.0, -2.0, 1.0] * unit.angstroms\n",
    "positions[3,:] = [0.0, 1.0, 1.0] * unit.angstroms\n",
    "positions[4,:] = [0.0, 0.0, 0.0] * unit.angstroms\n",
    "positions[5,:] = [-1.0, -1.0, 0.0] * unit.angstroms"
   ]
  },
  {
   "cell_type": "code",
   "execution_count": null,
   "metadata": {},
   "outputs": [],
   "source": [
    "positions"
   ]
  },
  {
   "cell_type": "code",
   "execution_count": null,
   "metadata": {},
   "outputs": [],
   "source": [
    "alpha_spheres_set = opp.alpha_spheres.AlphaSpheresSet(positions)"
   ]
  },
  {
   "cell_type": "code",
   "execution_count": null,
   "metadata": {},
   "outputs": [],
   "source": [
    "alpha_spheres_set.n_alpha_spheres"
   ]
  },
  {
   "cell_type": "markdown",
   "metadata": {},
   "source": [
    "Now we have 4 alpha spheres. We can check centers and radii:"
   ]
  },
  {
   "cell_type": "code",
   "execution_count": null,
   "metadata": {},
   "outputs": [],
   "source": [
    "alpha_spheres_set.centers"
   ]
  },
  {
   "cell_type": "code",
   "execution_count": null,
   "metadata": {},
   "outputs": [],
   "source": [
    "alpha_spheres_set.radii"
   ]
  },
  {
   "cell_type": "markdown",
   "metadata": {},
   "source": [
    "Lets visualize the points and resultant alpha spheres:"
   ]
  },
  {
   "cell_type": "code",
   "execution_count": null,
   "metadata": {},
   "outputs": [],
   "source": [
    "alpha_spheres_set.view()"
   ]
  },
  {
   "cell_type": "markdown",
   "metadata": {},
   "source": [
    "We can also visualize only a list of alpha sphere indices with their corresponding points in contact"
   ]
  },
  {
   "cell_type": "code",
   "execution_count": null,
   "metadata": {},
   "outputs": [],
   "source": [
    "alpha_spheres_set.view([1,3])"
   ]
  },
  {
   "cell_type": "markdown",
   "metadata": {},
   "source": [
    "What are the indices of the points shown in the above figure? What are the indices of the points in the surface of alpha spheres 1th and 3th?"
   ]
  },
  {
   "cell_type": "code",
   "execution_count": null,
   "metadata": {},
   "outputs": [],
   "source": [
    "alpha_spheres_set.get_points_in_surfaces([1,3])"
   ]
  },
  {
   "cell_type": "code",
   "execution_count": null,
   "metadata": {},
   "outputs": [],
   "source": []
  }
 ],
 "metadata": {
  "kernelspec": {
   "display_name": "Python 3",
   "language": "python",
   "name": "python3"
  },
  "language_info": {
   "codemirror_mode": {
    "name": "ipython",
    "version": 3
   },
   "file_extension": ".py",
   "mimetype": "text/x-python",
   "name": "python",
   "nbconvert_exporter": "python",
   "pygments_lexer": "ipython3",
   "version": "3.7.4"
  }
 },
 "nbformat": 4,
 "nbformat_minor": 4
}
